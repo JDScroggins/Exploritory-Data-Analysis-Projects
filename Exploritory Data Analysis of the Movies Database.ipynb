{
 "cells": [
  {
   "cell_type": "code",
   "execution_count": 1,
   "metadata": {},
   "outputs": [],
   "source": [
    "from __future__ import print_function, division\n",
    "\n",
    "%matplotlib inline\n",
    "\n",
    "import numpy as np\n",
    "\n",
    "import csv\n",
    "import first\n",
    "import thinkstats2\n",
    "import thinkplot\n",
    "import pandas as pd\n",
    "import statistics\n",
    "from scipy import stats\n",
    "import statsmodels.formula.api as smf\n",
    "import patsy\n",
    "import matplotlib.pyplot as plt\n",
    "\n"
   ]
  },
  {
   "cell_type": "code",
   "execution_count": 2,
   "metadata": {},
   "outputs": [],
   "source": [
    "moviedata = pd.read_csv('movies2.csv', encoding='latin-1') #importing data"
   ]
  },
  {
   "cell_type": "code",
   "execution_count": 3,
   "metadata": {},
   "outputs": [
    {
     "name": "stdout",
     "output_type": "stream",
     "text": [
      "<class 'pandas.core.frame.DataFrame'>\n",
      "RangeIndex: 6820 entries, 0 to 6819\n",
      "Data columns (total 15 columns):\n",
      " #   Column    Non-Null Count  Dtype  \n",
      "---  ------    --------------  -----  \n",
      " 0   budget    6820 non-null   float64\n",
      " 1   company   6820 non-null   object \n",
      " 2   country   6820 non-null   object \n",
      " 3   director  6820 non-null   object \n",
      " 4   genre     6820 non-null   object \n",
      " 5   gross     6820 non-null   float64\n",
      " 6   name      6820 non-null   object \n",
      " 7   rating    6820 non-null   object \n",
      " 8   released  6820 non-null   object \n",
      " 9   runtime   6820 non-null   int64  \n",
      " 10  score     6820 non-null   float64\n",
      " 11  star      6820 non-null   object \n",
      " 12  votes     6820 non-null   int64  \n",
      " 13  writer    6820 non-null   object \n",
      " 14  year      6820 non-null   int64  \n",
      "dtypes: float64(3), int64(3), object(9)\n",
      "memory usage: 799.3+ KB\n"
     ]
    }
   ],
   "source": [
    "moviedata.info()"
   ]
  },
  {
   "cell_type": "code",
   "execution_count": 4,
   "metadata": {
    "scrolled": false
   },
   "outputs": [
    {
     "data": {
      "text/html": [
       "<div>\n",
       "<style scoped>\n",
       "    .dataframe tbody tr th:only-of-type {\n",
       "        vertical-align: middle;\n",
       "    }\n",
       "\n",
       "    .dataframe tbody tr th {\n",
       "        vertical-align: top;\n",
       "    }\n",
       "\n",
       "    .dataframe thead th {\n",
       "        text-align: right;\n",
       "    }\n",
       "</style>\n",
       "<table border=\"1\" class=\"dataframe\">\n",
       "  <thead>\n",
       "    <tr style=\"text-align: right;\">\n",
       "      <th></th>\n",
       "      <th>budget</th>\n",
       "      <th>company</th>\n",
       "      <th>country</th>\n",
       "      <th>director</th>\n",
       "      <th>genre</th>\n",
       "      <th>gross</th>\n",
       "      <th>name</th>\n",
       "      <th>rating</th>\n",
       "      <th>released</th>\n",
       "      <th>runtime</th>\n",
       "      <th>score</th>\n",
       "      <th>star</th>\n",
       "      <th>votes</th>\n",
       "      <th>writer</th>\n",
       "      <th>year</th>\n",
       "    </tr>\n",
       "  </thead>\n",
       "  <tbody>\n",
       "    <tr>\n",
       "      <th>0</th>\n",
       "      <td>8000000.0</td>\n",
       "      <td>Columbia Pictures Corporation</td>\n",
       "      <td>USA</td>\n",
       "      <td>Rob Reiner</td>\n",
       "      <td>Adventure</td>\n",
       "      <td>52287414.0</td>\n",
       "      <td>Stand by Me</td>\n",
       "      <td>R</td>\n",
       "      <td>1986-08-22</td>\n",
       "      <td>89</td>\n",
       "      <td>8.1</td>\n",
       "      <td>Wil Wheaton</td>\n",
       "      <td>299174</td>\n",
       "      <td>Stephen King</td>\n",
       "      <td>1986</td>\n",
       "    </tr>\n",
       "    <tr>\n",
       "      <th>1</th>\n",
       "      <td>6000000.0</td>\n",
       "      <td>Paramount Pictures</td>\n",
       "      <td>USA</td>\n",
       "      <td>John Hughes</td>\n",
       "      <td>Comedy</td>\n",
       "      <td>70136369.0</td>\n",
       "      <td>Ferris Bueller's Day Off</td>\n",
       "      <td>PG-13</td>\n",
       "      <td>1986-06-11</td>\n",
       "      <td>103</td>\n",
       "      <td>7.8</td>\n",
       "      <td>Matthew Broderick</td>\n",
       "      <td>264740</td>\n",
       "      <td>John Hughes</td>\n",
       "      <td>1986</td>\n",
       "    </tr>\n",
       "    <tr>\n",
       "      <th>2</th>\n",
       "      <td>15000000.0</td>\n",
       "      <td>Paramount Pictures</td>\n",
       "      <td>USA</td>\n",
       "      <td>Tony Scott</td>\n",
       "      <td>Action</td>\n",
       "      <td>179800601.0</td>\n",
       "      <td>Top Gun</td>\n",
       "      <td>PG</td>\n",
       "      <td>1986-05-16</td>\n",
       "      <td>110</td>\n",
       "      <td>6.9</td>\n",
       "      <td>Tom Cruise</td>\n",
       "      <td>236909</td>\n",
       "      <td>Jim Cash</td>\n",
       "      <td>1986</td>\n",
       "    </tr>\n",
       "    <tr>\n",
       "      <th>3</th>\n",
       "      <td>18500000.0</td>\n",
       "      <td>Twentieth Century Fox Film Corporation</td>\n",
       "      <td>USA</td>\n",
       "      <td>James Cameron</td>\n",
       "      <td>Action</td>\n",
       "      <td>85160248.0</td>\n",
       "      <td>Aliens</td>\n",
       "      <td>R</td>\n",
       "      <td>1986-07-18</td>\n",
       "      <td>137</td>\n",
       "      <td>8.4</td>\n",
       "      <td>Sigourney Weaver</td>\n",
       "      <td>540152</td>\n",
       "      <td>James Cameron</td>\n",
       "      <td>1986</td>\n",
       "    </tr>\n",
       "    <tr>\n",
       "      <th>4</th>\n",
       "      <td>9000000.0</td>\n",
       "      <td>Walt Disney Pictures</td>\n",
       "      <td>USA</td>\n",
       "      <td>Randal Kleiser</td>\n",
       "      <td>Adventure</td>\n",
       "      <td>18564613.0</td>\n",
       "      <td>Flight of the Navigator</td>\n",
       "      <td>PG</td>\n",
       "      <td>1986-08-01</td>\n",
       "      <td>90</td>\n",
       "      <td>6.9</td>\n",
       "      <td>Joey Cramer</td>\n",
       "      <td>36636</td>\n",
       "      <td>Mark H. Baker</td>\n",
       "      <td>1986</td>\n",
       "    </tr>\n",
       "  </tbody>\n",
       "</table>\n",
       "</div>"
      ],
      "text/plain": [
       "       budget                                 company country        director  \\\n",
       "0   8000000.0           Columbia Pictures Corporation     USA      Rob Reiner   \n",
       "1   6000000.0                      Paramount Pictures     USA     John Hughes   \n",
       "2  15000000.0                      Paramount Pictures     USA      Tony Scott   \n",
       "3  18500000.0  Twentieth Century Fox Film Corporation     USA   James Cameron   \n",
       "4   9000000.0                    Walt Disney Pictures     USA  Randal Kleiser   \n",
       "\n",
       "       genre        gross                      name rating    released  \\\n",
       "0  Adventure   52287414.0               Stand by Me      R  1986-08-22   \n",
       "1     Comedy   70136369.0  Ferris Bueller's Day Off  PG-13  1986-06-11   \n",
       "2     Action  179800601.0                   Top Gun     PG  1986-05-16   \n",
       "3     Action   85160248.0                    Aliens      R  1986-07-18   \n",
       "4  Adventure   18564613.0   Flight of the Navigator     PG  1986-08-01   \n",
       "\n",
       "   runtime  score               star   votes         writer  year  \n",
       "0       89    8.1        Wil Wheaton  299174   Stephen King  1986  \n",
       "1      103    7.8  Matthew Broderick  264740    John Hughes  1986  \n",
       "2      110    6.9         Tom Cruise  236909       Jim Cash  1986  \n",
       "3      137    8.4   Sigourney Weaver  540152  James Cameron  1986  \n",
       "4       90    6.9        Joey Cramer   36636  Mark H. Baker  1986  "
      ]
     },
     "execution_count": 4,
     "metadata": {},
     "output_type": "execute_result"
    }
   ],
   "source": [
    "md_usa = moviedata[moviedata.country == 'USA'] #cleaning out international films\n",
    "md_usa.head()"
   ]
  },
  {
   "cell_type": "code",
   "execution_count": 5,
   "metadata": {},
   "outputs": [
    {
     "name": "stdout",
     "output_type": "stream",
     "text": [
      "7000.0 2\n",
      "15000.0 2\n",
      "20000.0 1\n",
      "22769.0 1\n",
      "23000.0 1\n",
      "25000.0 1\n",
      "38000.0 1\n",
      "42000.0 1\n",
      "50000.0 3\n",
      "60000.0 2\n",
      "300000000.0 1\n",
      "260000000.0 1\n",
      "258000000.0 1\n",
      "250000000.0 5\n",
      "245000000.0 1\n",
      "230000000.0 1\n",
      "225000000.0 5\n",
      "220000000.0 1\n",
      "215000000.0 2\n",
      "210000000.0 1\n"
     ]
    },
    {
     "data": {
      "text/plain": [
       "Text(0, 0.5, 'Frequency')"
      ]
     },
     "execution_count": 5,
     "metadata": {},
     "output_type": "execute_result"
    },
    {
     "data": {
      "image/png": "[encoded data removed]",
      "text/plain": [
       "<Figure size 432x288 with 1 Axes>"
      ]
     },
     "metadata": {
      "needs_background": "light"
     },
     "output_type": "display_data"
    }
   ],
   "source": [
    "md_usa_bud = md_usa[md_usa.budget > 0] #cleaning out budgets of zero and checking for outliers\n",
    "hist = thinkstats2.Hist(md_usa_bud.budget)\n",
    "for budget, freq in hist.Smallest(10):\n",
    "    print(budget, freq)\n",
    "for budget, freq in hist.Largest(10):\n",
    "    print(budget, freq)\n",
    "md_usa_bud.budget.hist(bins = 100)\n",
    "plt.xlabel('Budget')\n",
    "plt.ylabel('Frequency')"
   ]
  },
  {
   "cell_type": "code",
   "execution_count": 6,
   "metadata": {},
   "outputs": [
    {
     "name": "stdout",
     "output_type": "stream",
     "text": [
      "309.0 1\n",
      "1434.0 1\n",
      "1785.0 1\n",
      "1800.0 1\n",
      "1887.0 1\n",
      "2034.0 1\n",
      "2760.0 1\n",
      "2964.0 1\n",
      "2970.0 1\n",
      "3045.0 1\n",
      "936662225.0 1\n",
      "658672302.0 1\n",
      "652270625.0 1\n",
      "623357910.0 1\n",
      "534858444.0 1\n",
      "532177324.0 1\n",
      "486295561.0 1\n",
      "474544677.0 1\n",
      "459005868.0 1\n",
      "436471036.0 1\n"
     ]
    },
    {
     "data": {
      "text/plain": [
       "Text(0, 0.5, 'Frequency')"
      ]
     },
     "execution_count": 6,
     "metadata": {},
     "output_type": "execute_result"
    },
    {
     "data": {
      "image/png": "[encoded data removed]",
      "text/plain": [
       "<Figure size 432x288 with 1 Axes>"
      ]
     },
     "metadata": {
      "needs_background": "light"
     },
     "output_type": "display_data"
    }
   ],
   "source": [
    "hist2 = thinkstats2.Hist(md_usa_bud.gross) #checking for gross outliers\n",
    "for gross, freq in hist2.Smallest(10):\n",
    "    print(gross, freq)\n",
    "for gross, freq in hist2.Largest(10):\n",
    "    print(gross, freq)\n",
    "md_usa_bud.gross.hist(bins = 100) #histogram of number of gross\n",
    "plt.xlabel('Gross Earnings')\n",
    "plt.ylabel('Frequency')"
   ]
  },
  {
   "cell_type": "code",
   "execution_count": 7,
   "metadata": {},
   "outputs": [],
   "source": [
    "md_usa_r = md_usa_bud[md_usa_bud.rating == 'R'] #seperating by rating\n",
    "md_usa_pg13 = md_usa_bud[md_usa_bud.rating == 'PG-13']\n",
    "md_usa_pg = md_usa_bud[md_usa_bud.rating == 'PG']\n",
    "md_usa_g = md_usa_bud[md_usa_bud.rating == 'G']"
   ]
  },
  {
   "cell_type": "code",
   "execution_count": 8,
   "metadata": {
    "scrolled": true
   },
   "outputs": [
    {
     "data": {
      "text/plain": [
       "Text(0, 0.5, 'Frequency')"
      ]
     },
     "execution_count": 8,
     "metadata": {},
     "output_type": "execute_result"
    },
    {
     "data": {
      "image/png": "[encoded data removed]",
      "text/plain": [
       "<Figure size 432x288 with 1 Axes>"
      ]
     },
     "metadata": {
      "needs_background": "light"
     },
     "output_type": "display_data"
    }
   ],
   "source": [
    "md_usa_bud.votes.hist(bins = 100) #histogram of number of votes\n",
    "plt.xlabel('Number of Votes')\n",
    "plt.ylabel('Frequency') #histogram of number of votes"
   ]
  },
  {
   "cell_type": "code",
   "execution_count": 9,
   "metadata": {
    "scrolled": false
   },
   "outputs": [
    {
     "name": "stdout",
     "output_type": "stream",
     "text": [
      "69 1\n",
      "72 3\n",
      "73 2\n",
      "74 2\n",
      "75 2\n",
      "76 7\n",
      "77 6\n",
      "78 4\n",
      "79 6\n",
      "80 11\n",
      "271 1\n",
      "219 1\n",
      "202 1\n",
      "201 1\n",
      "195 1\n",
      "194 1\n",
      "192 1\n",
      "191 2\n",
      "189 2\n",
      "188 1\n"
     ]
    },
    {
     "data": {
      "image/png": "[encoded data removed]",
      "text/plain": [
       "<Figure size 432x288 with 1 Axes>"
      ]
     },
     "metadata": {
      "needs_background": "light"
     },
     "output_type": "display_data"
    }
   ],
   "source": [
    "hist2 = thinkstats2.Hist(md_usa_bud.runtime) #checking for runtime outliers\n",
    "for runtime, freq in hist2.Smallest(10):\n",
    "    print(runtime, freq)\n",
    "for runtime, freq in hist2.Largest(10):\n",
    "    print(runtime, freq)\n",
    "md_usa_run_hist = thinkstats2.Hist(md_usa_bud.runtime) #histogram for runtime\n",
    "thinkplot.hist(md_usa_run_hist)\n",
    "thinkplot.Config(xlabel='Runtime (in minutes)', ylabel='Frequency')"
   ]
  },
  {
   "cell_type": "code",
   "execution_count": 10,
   "metadata": {
    "scrolled": false
   },
   "outputs": [
    {
     "data": {
      "image/png": "[encoded data removed]",
      "text/plain": [
       "<Figure size 432x288 with 1 Axes>"
      ]
     },
     "metadata": {
      "needs_background": "light"
     },
     "output_type": "display_data"
    }
   ],
   "source": [
    "md_usa_score_hist = thinkstats2.Hist(md_usa_bud.score)\n",
    "thinkplot.hist(md_usa_score_hist) #histogram for the score\n",
    "thinkplot.Config(xlabel='Score (all ratings)', ylabel='Frequency')"
   ]
  },
  {
   "cell_type": "code",
   "execution_count": 11,
   "metadata": {
    "scrolled": false
   },
   "outputs": [
    {
     "data": {
      "image/png": "[encoded data removed]",
      "text/plain": [
       "<Figure size 432x288 with 1 Axes>"
      ]
     },
     "metadata": {
      "needs_background": "light"
     },
     "output_type": "display_data"
    }
   ],
   "source": [
    "md_usa_r_hist = thinkstats2.Hist(md_usa_r.score) #histogram of score r rating\n",
    "thinkplot.hist(md_usa_r_hist)\n",
    "thinkplot.Config(xlabel='Score (R rating)', ylabel='Frequency')"
   ]
  },
  {
   "cell_type": "code",
   "execution_count": 12,
   "metadata": {},
   "outputs": [
    {
     "data": {
      "image/png": "[encoded data removed]",
      "text/plain": [
       "<Figure size 432x288 with 1 Axes>"
      ]
     },
     "metadata": {
      "needs_background": "light"
     },
     "output_type": "display_data"
    }
   ],
   "source": [
    "md_usa_pg13_hist = thinkstats2.Hist(md_usa_pg13.score) #histogram of score with pg13 rating\n",
    "thinkplot.hist(md_usa_pg13_hist)\n",
    "thinkplot.Config(xlabel='Score (PG13 rating)', ylabel='Frequency')"
   ]
  },
  {
   "cell_type": "code",
   "execution_count": 13,
   "metadata": {
    "scrolled": true
   },
   "outputs": [
    {
     "data": {
      "image/png": "[encoded data removed]",
      "text/plain": [
       "<Figure size 432x288 with 1 Axes>"
      ]
     },
     "metadata": {
      "needs_background": "light"
     },
     "output_type": "display_data"
    }
   ],
   "source": [
    "md_usa_pg_hist = thinkstats2.Hist(md_usa_pg.score) #hostogram of score with pg rating\n",
    "thinkplot.hist(md_usa_pg_hist)\n",
    "thinkplot.Config(xlabel='Scroe(PG rating)', ylabel='Frequency')"
   ]
  },
  {
   "cell_type": "code",
   "execution_count": 14,
   "metadata": {},
   "outputs": [
    {
     "data": {
      "image/png": "[encoded data removed]",
      "text/plain": [
       "<Figure size 432x288 with 1 Axes>"
      ]
     },
     "metadata": {
      "needs_background": "light"
     },
     "output_type": "display_data"
    }
   ],
   "source": [
    "md_usa_g_hist = thinkstats2.Hist(md_usa_g.score) #histogram of score with g rating\n",
    "thinkplot.hist(md_usa_g_hist)\n",
    "thinkplot.Config(xlabel='Score (G rating)', ylabel='Frequency')"
   ]
  },
  {
   "cell_type": "code",
   "execution_count": 15,
   "metadata": {},
   "outputs": [
    {
     "data": {
      "image/png": "[encoded data removed]",
      "text/plain": [
       "<Figure size 432x288 with 1 Axes>"
      ]
     },
     "metadata": {
      "needs_background": "light"
     },
     "output_type": "display_data"
    }
   ],
   "source": [
    "md_usa_bud_pmf = thinkstats2.Pmf(md_usa_bud.score) \n",
    "thinkplot.pmf(md_usa_bud_pmf)\n",
    "thinkplot.Config(xlabel='Score (all ratings)', ylabel='PMF')"
   ]
  },
  {
   "cell_type": "code",
   "execution_count": 16,
   "metadata": {},
   "outputs": [
    {
     "data": {
      "image/png": "[encoded data removed]",
      "text/plain": [
       "<Figure size 432x288 with 1 Axes>"
      ]
     },
     "metadata": {
      "needs_background": "light"
     },
     "output_type": "display_data"
    }
   ],
   "source": [
    "md_usa_r_pmf = thinkstats2.Pmf(md_usa_r.score) \n",
    "thinkplot.pmf(md_usa_r_pmf)\n",
    "thinkplot.Config(xlabel='Score (R rating)', ylabel='PMF')"
   ]
  },
  {
   "cell_type": "code",
   "execution_count": 17,
   "metadata": {
    "scrolled": false
   },
   "outputs": [
    {
     "data": {
      "image/png": "[encoded data removed]",
      "text/plain": [
       "<Figure size 432x288 with 1 Axes>"
      ]
     },
     "metadata": {
      "needs_background": "light"
     },
     "output_type": "display_data"
    }
   ],
   "source": [
    "md_usa_pg13_pmf = thinkstats2.Pmf(md_usa_pg13.score)\n",
    "thinkplot.pmf(md_usa_pg13_pmf)\n",
    "thinkplot.Config(xlabel='Score (PG13 rating)', ylabel='PMF')"
   ]
  },
  {
   "cell_type": "code",
   "execution_count": 18,
   "metadata": {},
   "outputs": [
    {
     "data": {
      "image/png": "[encoded data removed]",
      "text/plain": [
       "<Figure size 864x432 with 2 Axes>"
      ]
     },
     "metadata": {
      "needs_background": "light"
     },
     "output_type": "display_data"
    },
    {
     "data": {
      "text/plain": [
       "<Figure size 576x432 with 0 Axes>"
      ]
     },
     "metadata": {},
     "output_type": "display_data"
    }
   ],
   "source": [
    "thinkplot.PrePlot(2, cols = 2) #comparing two ratings based on their score the score for r and pg13\n",
    "thinkplot.Hist(md_usa_r_pmf, align='right', width = 1, color = \"green\")\n",
    "thinkplot.Hist(md_usa_pg13_pmf, align='left', width = 1, color = \"blue\")\n",
    "thinkplot.Config(xlabel='Score', ylabel='PMF')\n",
    "thinkplot.PrePlot(2)\n",
    "thinkplot.SubPlot(2)\n",
    "thinkplot.Pmfs([md_usa_r_pmf, md_usa_pg13_pmf])\n",
    "thinkplot.Show(xlabel='Score')"
   ]
  },
  {
   "cell_type": "code",
   "execution_count": 19,
   "metadata": {},
   "outputs": [
    {
     "data": {
      "image/png": "[encoded data removed]",
      "text/plain": [
       "<Figure size 432x288 with 1 Axes>"
      ]
     },
     "metadata": {
      "needs_background": "light"
     },
     "output_type": "display_data"
    }
   ],
   "source": [
    "score_cdf = thinkstats2.Cdf(md_usa_bud.score)\n",
    "thinkplot.Cdf(score_cdf)\n",
    "thinkplot.Config(xlabel='Score', ylabel='CDF')"
   ]
  },
  {
   "cell_type": "code",
   "execution_count": 20,
   "metadata": {},
   "outputs": [
    {
     "data": {
      "image/png": "[encoded data removed]",
      "text/plain": [
       "<Figure size 432x288 with 1 Axes>"
      ]
     },
     "metadata": {
      "needs_background": "light"
     },
     "output_type": "display_data"
    }
   ],
   "source": [
    "r_cdf = thinkstats2.Cdf(md_usa_r.score, label='r')\n",
    "pg13_cdf = thinkstats2.Cdf(md_usa_pg13.score, label='pg13')\n",
    "\n",
    "thinkplot.PrePlot(2)\n",
    "thinkplot.Cdfs([r_cdf, pg13_cdf])\n",
    "thinkplot.Config(xlabel='Score', ylabel='CDF')"
   ]
  },
  {
   "cell_type": "code",
   "execution_count": 21,
   "metadata": {},
   "outputs": [
    {
     "data": {
      "image/png": "[encoded data removed]",
      "text/plain": [
       "<Figure size 432x288 with 1 Axes>"
      ]
     },
     "metadata": {
      "needs_background": "light"
     },
     "output_type": "display_data"
    }
   ],
   "source": [
    "gross_bud_cdf = thinkstats2.Cdf(md_usa_bud.gross)\n",
    "thinkplot.Cdf(gross_bud_cdf)\n",
    "thinkplot.Config(xlabel='Gross', ylabel='PMF')"
   ]
  },
  {
   "cell_type": "code",
   "execution_count": 22,
   "metadata": {},
   "outputs": [
    {
     "name": "stdout",
     "output_type": "stream",
     "text": [
      "The mean is  50031178.03 The variance is  4574995235211193.0 The standard deviation is  67638711.07\n"
     ]
    }
   ],
   "source": [
    "print('The mean is ', round(md_usa_bud.gross.mean(), 2), 'The variance is ', round(md_usa_bud.gross.var(), 2),\n",
    "      'The standard deviation is ', round(md_usa_bud.gross.std(), 2)) #stats gross"
   ]
  },
  {
   "cell_type": "code",
   "execution_count": 23,
   "metadata": {},
   "outputs": [
    {
     "name": "stdout",
     "output_type": "stream",
     "text": [
      "The mean is  6.29 The variance is  1.0 The standard deviation is  1.0\n"
     ]
    }
   ],
   "source": [
    "print('The mean is ', round(md_usa_bud.score.mean(), 2), 'The variance is ', round(md_usa_bud.score.var(), 2),\n",
    "      'The standard deviation is ', round(md_usa_bud.score.std(), 2)) #stats score"
   ]
  },
  {
   "cell_type": "code",
   "execution_count": 24,
   "metadata": {},
   "outputs": [
    {
     "name": "stdout",
     "output_type": "stream",
     "text": [
      "The mean is  106.8 The variance is  299.38 The standard deviation is  17.3\n"
     ]
    }
   ],
   "source": [
    "print('The mean is ', round(md_usa_bud.runtime.mean(), 2), 'The variance is ', round(md_usa_bud.runtime.var(), 2),\n",
    "      'The standard deviation is ', round(md_usa_bud.runtime.std(), 2)) #stats runtime"
   ]
  },
  {
   "cell_type": "code",
   "execution_count": 25,
   "metadata": {
    "scrolled": true
   },
   "outputs": [
    {
     "name": "stdout",
     "output_type": "stream",
     "text": [
      "The mean is  37559962.44 The variance is  1646871742493711.0 The standard deviation is  40581667.57\n"
     ]
    }
   ],
   "source": [
    "print('The mean is ', round(md_usa_bud.budget.mean(), 2), 'The variance is ', round(md_usa_bud.budget.var(), 2),\n",
    "      'The standard deviation is ', round(md_usa_bud.budget.std(), 2)) #stats budget"
   ]
  },
  {
   "cell_type": "code",
   "execution_count": 26,
   "metadata": {},
   "outputs": [
    {
     "data": {
      "text/html": [
       "<div>\n",
       "<style scoped>\n",
       "    .dataframe tbody tr th:only-of-type {\n",
       "        vertical-align: middle;\n",
       "    }\n",
       "\n",
       "    .dataframe tbody tr th {\n",
       "        vertical-align: top;\n",
       "    }\n",
       "\n",
       "    .dataframe thead th {\n",
       "        text-align: right;\n",
       "    }\n",
       "</style>\n",
       "<table border=\"1\" class=\"dataframe\">\n",
       "  <thead>\n",
       "    <tr style=\"text-align: right;\">\n",
       "      <th></th>\n",
       "      <th>Rating</th>\n",
       "      <th>gross mean</th>\n",
       "      <th>gross variance</th>\n",
       "      <th>gross standard deviation</th>\n",
       "    </tr>\n",
       "  </thead>\n",
       "  <tbody>\n",
       "    <tr>\n",
       "      <th>0</th>\n",
       "      <td>R</td>\n",
       "      <td>3.081202e+07</td>\n",
       "      <td>1.583968e+15</td>\n",
       "      <td>39799098.17</td>\n",
       "    </tr>\n",
       "    <tr>\n",
       "      <th>1</th>\n",
       "      <td>PG13</td>\n",
       "      <td>6.562071e+07</td>\n",
       "      <td>6.919477e+15</td>\n",
       "      <td>83183392.42</td>\n",
       "    </tr>\n",
       "    <tr>\n",
       "      <th>2</th>\n",
       "      <td>PG</td>\n",
       "      <td>6.979796e+07</td>\n",
       "      <td>5.685418e+15</td>\n",
       "      <td>75401711.10</td>\n",
       "    </tr>\n",
       "    <tr>\n",
       "      <th>3</th>\n",
       "      <td>G</td>\n",
       "      <td>1.070111e+08</td>\n",
       "      <td>8.252619e+15</td>\n",
       "      <td>90843924.91</td>\n",
       "    </tr>\n",
       "  </tbody>\n",
       "</table>\n",
       "</div>"
      ],
      "text/plain": [
       "  Rating    gross mean  gross variance  gross standard deviation\n",
       "0      R  3.081202e+07    1.583968e+15               39799098.17\n",
       "1   PG13  6.562071e+07    6.919477e+15               83183392.42\n",
       "2     PG  6.979796e+07    5.685418e+15               75401711.10\n",
       "3      G  1.070111e+08    8.252619e+15               90843924.91"
      ]
     },
     "execution_count": 26,
     "metadata": {},
     "output_type": "execute_result"
    }
   ],
   "source": [
    "\n",
    "t = {'Rating':['R', 'PG13', 'PG', 'G'], \n",
    "     'gross mean': [round(md_usa_r.gross.mean(),2), round(md_usa_pg13.gross.mean(), 2), round(md_usa_pg.gross.mean(), 2), round(md_usa_g.gross.mean(), 2)], \n",
    "     'gross variance': [round(md_usa_r.gross.var(), 2), round(md_usa_pg13.gross.var(), 2), round(md_usa_pg.gross.var(), 2), round(md_usa_g.gross.var(), 2)], \n",
    "     'gross standard deviation': [round(md_usa_r.gross.std(), 2), round(md_usa_pg13.gross.std(), 2), round(md_usa_pg.gross.std(), 2), round(md_usa_g.gross.std(), 2)]}\n",
    "Rating_df = pd.DataFrame(data = t)\n",
    "Rating_df"
   ]
  },
  {
   "cell_type": "code",
   "execution_count": 27,
   "metadata": {},
   "outputs": [
    {
     "data": {
      "text/html": [
       "<div>\n",
       "<style scoped>\n",
       "    .dataframe tbody tr th:only-of-type {\n",
       "        vertical-align: middle;\n",
       "    }\n",
       "\n",
       "    .dataframe tbody tr th {\n",
       "        vertical-align: top;\n",
       "    }\n",
       "\n",
       "    .dataframe thead th {\n",
       "        text-align: right;\n",
       "    }\n",
       "</style>\n",
       "<table border=\"1\" class=\"dataframe\">\n",
       "  <thead>\n",
       "    <tr style=\"text-align: right;\">\n",
       "      <th></th>\n",
       "      <th>Score</th>\n",
       "      <th>score mean</th>\n",
       "      <th>score variance</th>\n",
       "      <th>score standard deviation</th>\n",
       "    </tr>\n",
       "  </thead>\n",
       "  <tbody>\n",
       "    <tr>\n",
       "      <th>0</th>\n",
       "      <td>R</td>\n",
       "      <td>6.43</td>\n",
       "      <td>0.86</td>\n",
       "      <td>0.93</td>\n",
       "    </tr>\n",
       "    <tr>\n",
       "      <th>1</th>\n",
       "      <td>PG13</td>\n",
       "      <td>6.19</td>\n",
       "      <td>0.99</td>\n",
       "      <td>0.99</td>\n",
       "    </tr>\n",
       "    <tr>\n",
       "      <th>2</th>\n",
       "      <td>PG</td>\n",
       "      <td>6.05</td>\n",
       "      <td>1.31</td>\n",
       "      <td>1.14</td>\n",
       "    </tr>\n",
       "    <tr>\n",
       "      <th>3</th>\n",
       "      <td>G</td>\n",
       "      <td>6.60</td>\n",
       "      <td>1.17</td>\n",
       "      <td>1.08</td>\n",
       "    </tr>\n",
       "  </tbody>\n",
       "</table>\n",
       "</div>"
      ],
      "text/plain": [
       "  Score  score mean  score variance  score standard deviation\n",
       "0     R        6.43            0.86                      0.93\n",
       "1  PG13        6.19            0.99                      0.99\n",
       "2    PG        6.05            1.31                      1.14\n",
       "3     G        6.60            1.17                      1.08"
      ]
     },
     "execution_count": 27,
     "metadata": {},
     "output_type": "execute_result"
    }
   ],
   "source": [
    "score = {'Score':['R', 'PG13', 'PG', 'G'], \n",
    "     'score mean': [round(md_usa_r.score.mean(),2), round(md_usa_pg13.score.mean(), 2), round(md_usa_pg.score.mean(), 2), round(md_usa_g.score.mean(), 2)], \n",
    "     'score variance': [round(md_usa_r.score.var(), 2), round(md_usa_pg13.score.var(), 2), round(md_usa_pg.score.var(), 2), round(md_usa_g.score.var(), 2)], \n",
    "     'score standard deviation': [round(md_usa_r.score.std(), 2), round(md_usa_pg13.score.std(), 2), round(md_usa_pg.score.std(), 2), round(md_usa_g.score.std(), 2)]}\n",
    "score_df = pd.DataFrame(data = score)\n",
    "score_df"
   ]
  },
  {
   "cell_type": "code",
   "execution_count": 28,
   "metadata": {},
   "outputs": [
    {
     "data": {
      "text/plain": [
       "(30812020.708215296, 1583968215489517.8, 39799098.174324475)"
      ]
     },
     "execution_count": 28,
     "metadata": {},
     "output_type": "execute_result"
    }
   ],
   "source": [
    "md_usa_r.gross.mean(), md_usa_r.gross.var(), md_usa_r.gross.std() #stats r gross"
   ]
  },
  {
   "cell_type": "code",
   "execution_count": 29,
   "metadata": {},
   "outputs": [
    {
     "data": {
      "text/plain": [
       "(6.429518413597741, 0.8590431352899992, 0.9268457990895784)"
      ]
     },
     "execution_count": 29,
     "metadata": {},
     "output_type": "execute_result"
    }
   ],
   "source": [
    "md_usa_r.score.mean(), md_usa_r.score.var(), md_usa_r.score.std() #stats r score"
   ]
  },
  {
   "cell_type": "code",
   "execution_count": 30,
   "metadata": {},
   "outputs": [
    {
     "data": {
      "text/plain": [
       "(6.1864782276547, 0.9888613643956392, 0.9944150865688026)"
      ]
     },
     "execution_count": 30,
     "metadata": {},
     "output_type": "execute_result"
    }
   ],
   "source": [
    "md_usa_pg13.score.mean(), md_usa_pg13.score.var(), md_usa_pg13.score.std() #stats pg13 score"
   ]
  },
  {
   "cell_type": "code",
   "execution_count": 31,
   "metadata": {},
   "outputs": [
    {
     "data": {
      "text/plain": [
       "(65620707.66080978, 6919476773860429.0, 83183392.41615738)"
      ]
     },
     "execution_count": 31,
     "metadata": {},
     "output_type": "execute_result"
    }
   ],
   "source": [
    "md_usa_pg13.gross.mean(), md_usa_pg13.gross.var(), md_usa_pg13.gross.std() #stats pg13 gross"
   ]
  },
  {
   "cell_type": "code",
   "execution_count": 32,
   "metadata": {},
   "outputs": [
    {
     "data": {
      "text/plain": [
       "(69797959.18363637, 5685418036938828.0, 75401711.10086845)"
      ]
     },
     "execution_count": 32,
     "metadata": {},
     "output_type": "execute_result"
    }
   ],
   "source": [
    "md_usa_pg.gross.mean(), md_usa_pg.gross.var(), md_usa_pg.gross.std() #stats pg gross"
   ]
  },
  {
   "cell_type": "code",
   "execution_count": 33,
   "metadata": {},
   "outputs": [
    {
     "data": {
      "text/plain": [
       "(6.049818181818186, 1.3108469614174507, 1.1449222512544033)"
      ]
     },
     "execution_count": 33,
     "metadata": {},
     "output_type": "execute_result"
    }
   ],
   "source": [
    "md_usa_pg.score.mean(), md_usa_pg.score.var(), md_usa_pg.score.std() #stats pg score"
   ]
  },
  {
   "cell_type": "code",
   "execution_count": 34,
   "metadata": {},
   "outputs": [
    {
     "data": {
      "text/plain": [
       "(107011065.1388889, 8252618692557631.0, 90843924.90726957)"
      ]
     },
     "execution_count": 34,
     "metadata": {},
     "output_type": "execute_result"
    }
   ],
   "source": [
    "md_usa_g.gross.mean(), md_usa_g.gross.var(), md_usa_g.gross.std() #stats g gross"
   ]
  },
  {
   "cell_type": "code",
   "execution_count": 35,
   "metadata": {},
   "outputs": [
    {
     "data": {
      "text/plain": [
       "(6.601388888888891, 1.1654910015649453, 1.0795790853684344)"
      ]
     },
     "execution_count": 35,
     "metadata": {},
     "output_type": "execute_result"
    }
   ],
   "source": [
    "md_usa_g.score.mean(), md_usa_g.score.var(), md_usa_g.score.std() #stats g score"
   ]
  },
  {
   "cell_type": "code",
   "execution_count": 36,
   "metadata": {},
   "outputs": [
    {
     "data": {
      "image/png": "[encoded data removed]",
      "text/plain": [
       "<Figure size 432x288 with 1 Axes>"
      ]
     },
     "metadata": {
      "needs_background": "light"
     },
     "output_type": "display_data"
    },
    {
     "data": {
      "text/plain": [
       "<Figure size 576x432 with 0 Axes>"
      ]
     },
     "metadata": {},
     "output_type": "display_data"
    }
   ],
   "source": [
    "thinkplot.Scatter(md_usa_bud.budget, md_usa_bud.gross)\n",
    "thinkplot.Show(xlabel = \"Budget\", ylabel = \"Gross\")"
   ]
  },
  {
   "cell_type": "code",
   "execution_count": 37,
   "metadata": {
    "scrolled": true
   },
   "outputs": [
    {
     "data": {
      "image/png": "[encoded data removed]",
      "text/plain": [
       "<Figure size 432x288 with 1 Axes>"
      ]
     },
     "metadata": {
      "needs_background": "light"
     },
     "output_type": "display_data"
    },
    {
     "data": {
      "text/plain": [
       "<Figure size 576x432 with 0 Axes>"
      ]
     },
     "metadata": {},
     "output_type": "display_data"
    }
   ],
   "source": [
    "thinkplot.Scatter(md_usa_bud.score, md_usa_bud.gross)\n",
    "thinkplot.Show(xlabel = \"Score\", ylabel = \"Gross\")"
   ]
  },
  {
   "cell_type": "code",
   "execution_count": 38,
   "metadata": {},
   "outputs": [],
   "source": [
    "def Cov(xs, ys, meanx=None, meany=None):\n",
    "    xs = np.asarray(xs)\n",
    "    ys = np.asarray(ys)\n",
    "\n",
    "    if meanx is None:\n",
    "        meanx = np.mean(xs)\n",
    "    if meany is None:\n",
    "        meany = np.mean(ys)\n",
    "\n",
    "    cov = np.dot(xs-meanx, ys-meany) / len(xs)\n",
    "    return cov"
   ]
  },
  {
   "cell_type": "code",
   "execution_count": 39,
   "metadata": {},
   "outputs": [
    {
     "data": {
      "text/plain": [
       "1845859588418454.5"
      ]
     },
     "execution_count": 39,
     "metadata": {},
     "output_type": "execute_result"
    }
   ],
   "source": [
    "budget = md_usa_bud.budget\n",
    "gross = md_usa_bud.gross\n",
    "score = md_usa_bud.score\n",
    "runtime = md_usa_bud.runtime\n",
    "Cov(budget, gross)"
   ]
  },
  {
   "cell_type": "code",
   "execution_count": 40,
   "metadata": {},
   "outputs": [],
   "source": [
    "def Corr(xs, ys):\n",
    "    xs = np.asarray(xs)\n",
    "    ys = np.asarray(ys)\n",
    "\n",
    "    meanx, varx = thinkstats2.MeanVar(xs)\n",
    "    meany, vary = thinkstats2.MeanVar(ys)\n",
    "\n",
    "    corr = Cov(xs, ys, meanx, meany) / np.sqrt(varx * vary)\n",
    "    return corr"
   ]
  },
  {
   "cell_type": "code",
   "execution_count": 41,
   "metadata": {},
   "outputs": [
    {
     "data": {
      "text/plain": [
       "0.672651358065712"
      ]
     },
     "execution_count": 41,
     "metadata": {},
     "output_type": "execute_result"
    }
   ],
   "source": [
    "Corr(budget, gross)"
   ]
  },
  {
   "cell_type": "code",
   "execution_count": 42,
   "metadata": {},
   "outputs": [
    {
     "data": {
      "text/plain": [
       "0.27017542641802594"
      ]
     },
     "execution_count": 42,
     "metadata": {},
     "output_type": "execute_result"
    }
   ],
   "source": [
    "Corr(score, gross)"
   ]
  },
  {
   "cell_type": "code",
   "execution_count": 43,
   "metadata": {},
   "outputs": [],
   "source": [
    "#using lognormal distribution for the gross of the movies\n",
    "def MakeNormalModel(gross):\n",
    "    cdf = thinkstats2.Cdf(gross, label='gross')\n",
    "\n",
    "    mean, var = thinkstats2.TrimmedMeanVar(gross)\n",
    "    std = np.sqrt(var)\n",
    "    print('n, mean, std', len(gross), mean, std)\n",
    "\n",
    "    xmin = mean - 4 * std\n",
    "    xmax = mean + 4 * std\n",
    "\n",
    "    xs, ps = thinkstats2.RenderNormalCdf(mean, std, xmin, xmax)\n",
    "    thinkplot.Plot(xs, ps, label='model', linewidth=4, color='0.8')\n",
    "    thinkplot.Cdf(cdf)"
   ]
  },
  {
   "cell_type": "code",
   "execution_count": 44,
   "metadata": {},
   "outputs": [
    {
     "name": "stdout",
     "output_type": "stream",
     "text": [
      "n, mean, std 3726 46686282.10733844 54965578.54687879\n"
     ]
    },
    {
     "data": {
      "image/png": "[encoded data removed]",
      "text/plain": [
       "<Figure size 432x288 with 1 Axes>"
      ]
     },
     "metadata": {
      "needs_background": "light"
     },
     "output_type": "display_data"
    }
   ],
   "source": [
    "MakeNormalModel(gross)\n",
    "thinkplot.Config(title='Gross, linear scale', xlabel='Weight (kg)',\n",
    "                 ylabel='CDF', loc='upper right')"
   ]
  },
  {
   "cell_type": "code",
   "execution_count": 45,
   "metadata": {},
   "outputs": [
    {
     "name": "stdout",
     "output_type": "stream",
     "text": [
      "n, mean, std 3726 7.272202979200155 0.7768804247590311\n"
     ]
    },
    {
     "data": {
      "image/png": "[encoded data removed]",
      "text/plain": [
       "<Figure size 432x288 with 1 Axes>"
      ]
     },
     "metadata": {
      "needs_background": "light"
     },
     "output_type": "display_data"
    }
   ],
   "source": [
    "log_gross = np.log10(gross)\n",
    "MakeNormalModel(log_gross)\n",
    "thinkplot.Config(title='Gross, log scale', xlabel='Gross (log10 kg)',\n",
    "                 ylabel='CDF', loc='upper right')"
   ]
  },
  {
   "cell_type": "code",
   "execution_count": 46,
   "metadata": {},
   "outputs": [],
   "source": [
    "class HypothesisTest(object):\n",
    "\n",
    "    def __init__(self, data):\n",
    "        self.data = data\n",
    "        self.MakeModel()\n",
    "        self.actual = self.TestStatistic(data)\n",
    "\n",
    "    def PValue(self, iters=1000):\n",
    "        self.test_stats = [self.TestStatistic(self.RunModel()) \n",
    "                           for _ in range(iters)]\n",
    "\n",
    "        count = sum(1 for x in self.test_stats if x >= self.actual)\n",
    "        return count / iters\n",
    "\n",
    "    def TestStatistic(self, data):\n",
    "        raise UnimplementedMethodException()\n",
    "\n",
    "    def MakeModel(self):\n",
    "        pass\n",
    "\n",
    "    def RunModel(self):\n",
    "        raise UnimplementedMethodException()"
   ]
  },
  {
   "cell_type": "code",
   "execution_count": 47,
   "metadata": {},
   "outputs": [],
   "source": [
    "class DiffMeansPermute(thinkstats2.HypothesisTest):\n",
    "\n",
    "    def TestStatistic(self, data):\n",
    "        group1, group2 = data\n",
    "        test_stat = abs(group1.mean() - group2.mean())\n",
    "        return test_stat\n",
    "\n",
    "    def MakeModel(self):\n",
    "        group1, group2 = self.data\n",
    "        self.n, self.m = len(group1), len(group2)\n",
    "        self.pool = np.hstack((group1, group2))\n",
    "\n",
    "    def RunModel(self):\n",
    "        np.random.shuffle(self.pool)\n",
    "        data = self.pool[:self.n], self.pool[self.n:]\n",
    "        return data"
   ]
  },
  {
   "cell_type": "code",
   "execution_count": 48,
   "metadata": {},
   "outputs": [
    {
     "data": {
      "image/png": "[encoded data removed]",
      "text/plain": [
       "<Figure size 432x288 with 1 Axes>"
      ]
     },
     "metadata": {
      "needs_background": "light"
     },
     "output_type": "display_data"
    },
    {
     "data": {
      "text/plain": [
       "<Figure size 576x432 with 0 Axes>"
      ]
     },
     "metadata": {},
     "output_type": "display_data"
    }
   ],
   "source": [
    "data = md_usa_r.score, md_usa_pg13.score\n",
    "ht = DiffMeansPermute(data)\n",
    "pvalue = ht.PValue()\n",
    "pvalue\n",
    "ht.PlotCdf()\n",
    "thinkplot.Show(xlabel = 'test statistic', ylabel = 'CDF')"
   ]
  },
  {
   "cell_type": "code",
   "execution_count": 49,
   "metadata": {
    "scrolled": false
   },
   "outputs": [
    {
     "data": {
      "image/png": "[encoded data removed]",
      "text/plain": [
       "<Figure size 432x288 with 1 Axes>"
      ]
     },
     "metadata": {
      "needs_background": "light"
     },
     "output_type": "display_data"
    },
    {
     "data": {
      "text/plain": [
       "<Figure size 576x432 with 0 Axes>"
      ]
     },
     "metadata": {},
     "output_type": "display_data"
    }
   ],
   "source": [
    "data = md_usa_r.gross, md_usa_pg13.gross\n",
    "ht = DiffMeansPermute(data)\n",
    "pvalue = ht.PValue()\n",
    "ht.PlotCdf()\n",
    "thinkplot.Show(xlabel = 'test statistic', ylabel = 'CDF')"
   ]
  },
  {
   "cell_type": "code",
   "execution_count": 50,
   "metadata": {},
   "outputs": [
    {
     "data": {
      "image/png": "[encoded data removed]",
      "text/plain": [
       "<Figure size 432x288 with 1 Axes>"
      ]
     },
     "metadata": {
      "needs_background": "light"
     },
     "output_type": "display_data"
    },
    {
     "data": {
      "text/plain": [
       "<Figure size 576x432 with 0 Axes>"
      ]
     },
     "metadata": {},
     "output_type": "display_data"
    }
   ],
   "source": [
    "data = md_usa_bud.budget, md_usa_bud.gross\n",
    "ht = DiffMeansPermute(data)\n",
    "pvalue = ht.PValue()\n",
    "pvalue\n",
    "ht.PlotCdf()\n",
    "thinkplot.Show(xlabel = 'test statistic', ylabel = 'CDF')"
   ]
  },
  {
   "cell_type": "code",
   "execution_count": 51,
   "metadata": {},
   "outputs": [],
   "source": [
    "class CorrelationPermute(thinkstats2.HypothesisTest):\n",
    "\n",
    "    def TestStatistic(self, data):\n",
    "        xs, ys = data\n",
    "        test_stat = abs(thinkstats2.Corr(xs, ys))\n",
    "        return test_stat\n",
    "\n",
    "    def RunModel(self):\n",
    "        xs, ys = self.data\n",
    "        xs = np.random.permutation(xs)\n",
    "        return xs, ys"
   ]
  },
  {
   "cell_type": "code",
   "execution_count": 52,
   "metadata": {},
   "outputs": [
    {
     "data": {
      "text/plain": [
       "0.0"
      ]
     },
     "execution_count": 52,
     "metadata": {},
     "output_type": "execute_result"
    }
   ],
   "source": [
    "data = md_usa_bud.budget, md_usa_bud.gross\n",
    "ht = CorrelationPermute(data)\n",
    "pvalue = ht.PValue()\n",
    "pvalue"
   ]
  },
  {
   "cell_type": "code",
   "execution_count": 53,
   "metadata": {},
   "outputs": [],
   "source": [
    "from thinkstats2 import Mean, MeanVar, Var, Std, Cov\n",
    "\n",
    "def LeastSquares(xs, ys):\n",
    "    meanx, varx = MeanVar(xs)\n",
    "    meany = Mean(ys)\n",
    "\n",
    "    slope = Cov(xs, ys, meanx, meany) / varx\n",
    "    inter = meany - slope * meanx\n",
    "\n",
    "    return inter, slope"
   ]
  },
  {
   "cell_type": "code",
   "execution_count": 54,
   "metadata": {},
   "outputs": [
    {
     "data": {
      "text/plain": [
       "(7921627.414220706, 1.1211286668858007)"
      ]
     },
     "execution_count": 54,
     "metadata": {},
     "output_type": "execute_result"
    }
   ],
   "source": [
    "inter, slope = LeastSquares(budget, gross)\n",
    "inter, slope"
   ]
  },
  {
   "cell_type": "code",
   "execution_count": 55,
   "metadata": {},
   "outputs": [],
   "source": [
    "def FitLine(xs, inter, slope):\n",
    "    fit_xs = np.sort(xs)\n",
    "    fit_ys = inter + slope * fit_xs\n",
    "    return fit_xs, fit_ys"
   ]
  },
  {
   "cell_type": "code",
   "execution_count": 56,
   "metadata": {},
   "outputs": [],
   "source": [
    "fit_xs, fit_ys = FitLine(budget, inter, slope)"
   ]
  },
  {
   "cell_type": "code",
   "execution_count": 57,
   "metadata": {
    "scrolled": true
   },
   "outputs": [
    {
     "data": {
      "image/png": "[encoded data removed]",
      "text/plain": [
       "<Figure size 432x288 with 1 Axes>"
      ]
     },
     "metadata": {
      "needs_background": "light"
     },
     "output_type": "display_data"
    }
   ],
   "source": [
    "thinkplot.Scatter(budget, gross, color='blue', alpha = 0.1, s = 10)\n",
    "thinkplot.Plot(fit_xs, fit_ys, color='white', linewidth=3)\n",
    "thinkplot.Plot(fit_xs, fit_ys, color='red', linewidth=2)\n",
    "thinkplot.Config(xlabel=\"Budget\",\n",
    "                 ylabel='Gross',\n",
    "                 legend=False)"
   ]
  },
  {
   "cell_type": "code",
   "execution_count": 58,
   "metadata": {},
   "outputs": [
    {
     "data": {
      "text/plain": [
       "(-65042317.23976924, 18288929.88655387)"
      ]
     },
     "execution_count": 58,
     "metadata": {},
     "output_type": "execute_result"
    }
   ],
   "source": [
    "inter, slope = LeastSquares(score, gross)\n",
    "inter, slope"
   ]
  },
  {
   "cell_type": "code",
   "execution_count": 59,
   "metadata": {},
   "outputs": [],
   "source": [
    "fit_xs, fit_ys = FitLine(score, inter, slope)"
   ]
  },
  {
   "cell_type": "code",
   "execution_count": 60,
   "metadata": {},
   "outputs": [],
   "source": [
    "def FitLine(xs, inter, slope):\n",
    "    fit_xs = np.sort(xs)\n",
    "    fit_ys = inter + slope * fit_xs\n",
    "    return fit_xs, fit_ys"
   ]
  },
  {
   "cell_type": "code",
   "execution_count": 61,
   "metadata": {},
   "outputs": [
    {
     "data": {
      "image/png": "[encoded data removed]",
      "text/plain": [
       "<Figure size 432x288 with 1 Axes>"
      ]
     },
     "metadata": {
      "needs_background": "light"
     },
     "output_type": "display_data"
    }
   ],
   "source": [
    "thinkplot.Scatter(score, gross, color='blue', alpha = .1, s = 10)\n",
    "thinkplot.Plot(fit_xs, fit_ys, color='white', linewidth=3)\n",
    "thinkplot.Plot(fit_xs, fit_ys, color='red', linewidth=2)\n",
    "thinkplot.Config(xlabel=\"Score\",\n",
    "                 ylabel='Gross',\n",
    "                 legend=False)"
   ]
  },
  {
   "cell_type": "code",
   "execution_count": 62,
   "metadata": {},
   "outputs": [
    {
     "data": {
      "text/html": [
       "<table class=\"simpletable\">\n",
       "<caption>OLS Regression Results</caption>\n",
       "<tr>\n",
       "  <th>Dep. Variable:</th>          <td>gross</td>      <th>  R-squared:         </th> <td>   0.452</td> \n",
       "</tr>\n",
       "<tr>\n",
       "  <th>Model:</th>                   <td>OLS</td>       <th>  Adj. R-squared:    </th> <td>   0.452</td> \n",
       "</tr>\n",
       "<tr>\n",
       "  <th>Method:</th>             <td>Least Squares</td>  <th>  F-statistic:       </th> <td>   3077.</td> \n",
       "</tr>\n",
       "<tr>\n",
       "  <th>Date:</th>             <td>Sat, 06 Mar 2021</td> <th>  Prob (F-statistic):</th>  <td>  0.00</td>  \n",
       "</tr>\n",
       "<tr>\n",
       "  <th>Time:</th>                 <td>09:38:10</td>     <th>  Log-Likelihood:    </th> <td> -71343.</td> \n",
       "</tr>\n",
       "<tr>\n",
       "  <th>No. Observations:</th>      <td>  3726</td>      <th>  AIC:               </th> <td>1.427e+05</td>\n",
       "</tr>\n",
       "<tr>\n",
       "  <th>Df Residuals:</th>          <td>  3724</td>      <th>  BIC:               </th> <td>1.427e+05</td>\n",
       "</tr>\n",
       "<tr>\n",
       "  <th>Df Model:</th>              <td>     1</td>      <th>                     </th>     <td> </td>    \n",
       "</tr>\n",
       "<tr>\n",
       "  <th>Covariance Type:</th>      <td>nonrobust</td>    <th>                     </th>     <td> </td>    \n",
       "</tr>\n",
       "</table>\n",
       "<table class=\"simpletable\">\n",
       "<tr>\n",
       "      <td></td>         <th>coef</th>     <th>std err</th>      <th>t</th>      <th>P>|t|</th>  <th>[0.025</th>    <th>0.975]</th>  \n",
       "</tr>\n",
       "<tr>\n",
       "  <th>Intercept</th> <td> 7.922e+06</td> <td> 1.12e+06</td> <td>    7.089</td> <td> 0.000</td> <td> 5.73e+06</td> <td> 1.01e+07</td>\n",
       "</tr>\n",
       "<tr>\n",
       "  <th>budget</th>    <td>    1.1211</td> <td>    0.020</td> <td>   55.474</td> <td> 0.000</td> <td>    1.082</td> <td>    1.161</td>\n",
       "</tr>\n",
       "</table>\n",
       "<table class=\"simpletable\">\n",
       "<tr>\n",
       "  <th>Omnibus:</th>       <td>2440.214</td> <th>  Durbin-Watson:     </th> <td>   1.696</td> \n",
       "</tr>\n",
       "<tr>\n",
       "  <th>Prob(Omnibus):</th>  <td> 0.000</td>  <th>  Jarque-Bera (JB):  </th> <td>60019.793</td>\n",
       "</tr>\n",
       "<tr>\n",
       "  <th>Skew:</th>           <td> 2.730</td>  <th>  Prob(JB):          </th> <td>    0.00</td> \n",
       "</tr>\n",
       "<tr>\n",
       "  <th>Kurtosis:</th>       <td>21.889</td>  <th>  Cond. No.          </th> <td>7.53e+07</td> \n",
       "</tr>\n",
       "</table><br/><br/>Notes:<br/>[1] Standard Errors assume that the covariance matrix of the errors is correctly specified.<br/>[2] The condition number is large, 7.53e+07. This might indicate that there are<br/>strong multicollinearity or other numerical problems."
      ],
      "text/plain": [
       "<class 'statsmodels.iolib.summary.Summary'>\n",
       "\"\"\"\n",
       "                            OLS Regression Results                            \n",
       "==============================================================================\n",
       "Dep. Variable:                  gross   R-squared:                       0.452\n",
       "Model:                            OLS   Adj. R-squared:                  0.452\n",
       "Method:                 Least Squares   F-statistic:                     3077.\n",
       "Date:                Sat, 06 Mar 2021   Prob (F-statistic):               0.00\n",
       "Time:                        09:38:10   Log-Likelihood:                -71343.\n",
       "No. Observations:                3726   AIC:                         1.427e+05\n",
       "Df Residuals:                    3724   BIC:                         1.427e+05\n",
       "Df Model:                           1                                         \n",
       "Covariance Type:            nonrobust                                         \n",
       "==============================================================================\n",
       "                 coef    std err          t      P>|t|      [0.025      0.975]\n",
       "------------------------------------------------------------------------------\n",
       "Intercept   7.922e+06   1.12e+06      7.089      0.000    5.73e+06    1.01e+07\n",
       "budget         1.1211      0.020     55.474      0.000       1.082       1.161\n",
       "==============================================================================\n",
       "Omnibus:                     2440.214   Durbin-Watson:                   1.696\n",
       "Prob(Omnibus):                  0.000   Jarque-Bera (JB):            60019.793\n",
       "Skew:                           2.730   Prob(JB):                         0.00\n",
       "Kurtosis:                      21.889   Cond. No.                     7.53e+07\n",
       "==============================================================================\n",
       "\n",
       "Notes:\n",
       "[1] Standard Errors assume that the covariance matrix of the errors is correctly specified.\n",
       "[2] The condition number is large, 7.53e+07. This might indicate that there are\n",
       "strong multicollinearity or other numerical problems.\n",
       "\"\"\""
      ]
     },
     "execution_count": 62,
     "metadata": {},
     "output_type": "execute_result"
    }
   ],
   "source": [
    "import statsmodels.formula.api as smf\n",
    "\n",
    "formula = 'gross ~ budget'\n",
    "model = smf.ols(formula, data=md_usa_bud)\n",
    "results = model.fit()\n",
    "results.summary()"
   ]
  },
  {
   "cell_type": "code",
   "execution_count": 63,
   "metadata": {},
   "outputs": [
    {
     "data": {
      "text/html": [
       "<table class=\"simpletable\">\n",
       "<caption>OLS Regression Results</caption>\n",
       "<tr>\n",
       "  <th>Dep. Variable:</th>          <td>gross</td>      <th>  R-squared:         </th> <td>   0.073</td> \n",
       "</tr>\n",
       "<tr>\n",
       "  <th>Model:</th>                   <td>OLS</td>       <th>  Adj. R-squared:    </th> <td>   0.073</td> \n",
       "</tr>\n",
       "<tr>\n",
       "  <th>Method:</th>             <td>Least Squares</td>  <th>  F-statistic:       </th> <td>   293.2</td> \n",
       "</tr>\n",
       "<tr>\n",
       "  <th>Date:</th>             <td>Sat, 06 Mar 2021</td> <th>  Prob (F-statistic):</th> <td>2.46e-63</td> \n",
       "</tr>\n",
       "<tr>\n",
       "  <th>Time:</th>                 <td>09:38:10</td>     <th>  Log-Likelihood:    </th> <td> -72324.</td> \n",
       "</tr>\n",
       "<tr>\n",
       "  <th>No. Observations:</th>      <td>  3726</td>      <th>  AIC:               </th> <td>1.447e+05</td>\n",
       "</tr>\n",
       "<tr>\n",
       "  <th>Df Residuals:</th>          <td>  3724</td>      <th>  BIC:               </th> <td>1.447e+05</td>\n",
       "</tr>\n",
       "<tr>\n",
       "  <th>Df Model:</th>              <td>     1</td>      <th>                     </th>     <td> </td>    \n",
       "</tr>\n",
       "<tr>\n",
       "  <th>Covariance Type:</th>      <td>nonrobust</td>    <th>                     </th>     <td> </td>    \n",
       "</tr>\n",
       "</table>\n",
       "<table class=\"simpletable\">\n",
       "<tr>\n",
       "      <td></td>         <th>coef</th>     <th>std err</th>      <th>t</th>      <th>P>|t|</th>  <th>[0.025</th>    <th>0.975]</th>  \n",
       "</tr>\n",
       "<tr>\n",
       "  <th>Intercept</th> <td>-6.504e+07</td> <td>  6.8e+06</td> <td>   -9.559</td> <td> 0.000</td> <td>-7.84e+07</td> <td>-5.17e+07</td>\n",
       "</tr>\n",
       "<tr>\n",
       "  <th>score</th>     <td> 1.829e+07</td> <td> 1.07e+06</td> <td>   17.124</td> <td> 0.000</td> <td> 1.62e+07</td> <td> 2.04e+07</td>\n",
       "</tr>\n",
       "</table>\n",
       "<table class=\"simpletable\">\n",
       "<tr>\n",
       "  <th>Omnibus:</th>       <td>2694.431</td> <th>  Durbin-Watson:     </th> <td>   1.602</td> \n",
       "</tr>\n",
       "<tr>\n",
       "  <th>Prob(Omnibus):</th>  <td> 0.000</td>  <th>  Jarque-Bera (JB):  </th> <td>62725.283</td>\n",
       "</tr>\n",
       "<tr>\n",
       "  <th>Skew:</th>           <td> 3.191</td>  <th>  Prob(JB):          </th> <td>    0.00</td> \n",
       "</tr>\n",
       "<tr>\n",
       "  <th>Kurtosis:</th>       <td>22.060</td>  <th>  Cond. No.          </th> <td>    41.6</td> \n",
       "</tr>\n",
       "</table><br/><br/>Notes:<br/>[1] Standard Errors assume that the covariance matrix of the errors is correctly specified."
      ],
      "text/plain": [
       "<class 'statsmodels.iolib.summary.Summary'>\n",
       "\"\"\"\n",
       "                            OLS Regression Results                            \n",
       "==============================================================================\n",
       "Dep. Variable:                  gross   R-squared:                       0.073\n",
       "Model:                            OLS   Adj. R-squared:                  0.073\n",
       "Method:                 Least Squares   F-statistic:                     293.2\n",
       "Date:                Sat, 06 Mar 2021   Prob (F-statistic):           2.46e-63\n",
       "Time:                        09:38:10   Log-Likelihood:                -72324.\n",
       "No. Observations:                3726   AIC:                         1.447e+05\n",
       "Df Residuals:                    3724   BIC:                         1.447e+05\n",
       "Df Model:                           1                                         \n",
       "Covariance Type:            nonrobust                                         \n",
       "==============================================================================\n",
       "                 coef    std err          t      P>|t|      [0.025      0.975]\n",
       "------------------------------------------------------------------------------\n",
       "Intercept  -6.504e+07    6.8e+06     -9.559      0.000   -7.84e+07   -5.17e+07\n",
       "score       1.829e+07   1.07e+06     17.124      0.000    1.62e+07    2.04e+07\n",
       "==============================================================================\n",
       "Omnibus:                     2694.431   Durbin-Watson:                   1.602\n",
       "Prob(Omnibus):                  0.000   Jarque-Bera (JB):            62725.283\n",
       "Skew:                           3.191   Prob(JB):                         0.00\n",
       "Kurtosis:                      22.060   Cond. No.                         41.6\n",
       "==============================================================================\n",
       "\n",
       "Notes:\n",
       "[1] Standard Errors assume that the covariance matrix of the errors is correctly specified.\n",
       "\"\"\""
      ]
     },
     "execution_count": 63,
     "metadata": {},
     "output_type": "execute_result"
    }
   ],
   "source": [
    "formula = 'gross ~ score'\n",
    "model = smf.ols(formula, data=md_usa_bud)\n",
    "results = model.fit()\n",
    "results.summary()"
   ]
  },
  {
   "cell_type": "code",
   "execution_count": 64,
   "metadata": {},
   "outputs": [
    {
     "data": {
      "text/html": [
       "<table class=\"simpletable\">\n",
       "<caption>OLS Regression Results</caption>\n",
       "<tr>\n",
       "  <th>Dep. Variable:</th>          <td>gross</td>      <th>  R-squared:         </th> <td>   0.494</td> \n",
       "</tr>\n",
       "<tr>\n",
       "  <th>Model:</th>                   <td>OLS</td>       <th>  Adj. R-squared:    </th> <td>   0.493</td> \n",
       "</tr>\n",
       "<tr>\n",
       "  <th>Method:</th>             <td>Least Squares</td>  <th>  F-statistic:       </th> <td>   1209.</td> \n",
       "</tr>\n",
       "<tr>\n",
       "  <th>Date:</th>             <td>Sat, 06 Mar 2021</td> <th>  Prob (F-statistic):</th>  <td>  0.00</td>  \n",
       "</tr>\n",
       "<tr>\n",
       "  <th>Time:</th>                 <td>09:38:10</td>     <th>  Log-Likelihood:    </th> <td> -71197.</td> \n",
       "</tr>\n",
       "<tr>\n",
       "  <th>No. Observations:</th>      <td>  3726</td>      <th>  AIC:               </th> <td>1.424e+05</td>\n",
       "</tr>\n",
       "<tr>\n",
       "  <th>Df Residuals:</th>          <td>  3722</td>      <th>  BIC:               </th> <td>1.424e+05</td>\n",
       "</tr>\n",
       "<tr>\n",
       "  <th>Df Model:</th>              <td>     3</td>      <th>                     </th>     <td> </td>    \n",
       "</tr>\n",
       "<tr>\n",
       "  <th>Covariance Type:</th>      <td>nonrobust</td>    <th>                     </th>     <td> </td>    \n",
       "</tr>\n",
       "</table>\n",
       "<table class=\"simpletable\">\n",
       "<tr>\n",
       "      <td></td>         <th>coef</th>     <th>std err</th>      <th>t</th>      <th>P>|t|</th>  <th>[0.025</th>    <th>0.975]</th>  \n",
       "</tr>\n",
       "<tr>\n",
       "  <th>Intercept</th> <td>-7.177e+07</td> <td> 5.97e+06</td> <td>  -12.018</td> <td> 0.000</td> <td>-8.35e+07</td> <td>-6.01e+07</td>\n",
       "</tr>\n",
       "<tr>\n",
       "  <th>score</th>     <td> 1.433e+07</td> <td> 8.66e+05</td> <td>   16.548</td> <td> 0.000</td> <td> 1.26e+07</td> <td>  1.6e+07</td>\n",
       "</tr>\n",
       "<tr>\n",
       "  <th>budget</th>    <td>    1.0976</td> <td>    0.021</td> <td>   53.157</td> <td> 0.000</td> <td>    1.057</td> <td>    1.138</td>\n",
       "</tr>\n",
       "<tr>\n",
       "  <th>runtime</th>   <td>-8.965e+04</td> <td> 5.28e+04</td> <td>   -1.699</td> <td> 0.089</td> <td>-1.93e+05</td> <td> 1.38e+04</td>\n",
       "</tr>\n",
       "</table>\n",
       "<table class=\"simpletable\">\n",
       "<tr>\n",
       "  <th>Omnibus:</th>       <td>2413.442</td> <th>  Durbin-Watson:     </th> <td>   1.826</td> \n",
       "</tr>\n",
       "<tr>\n",
       "  <th>Prob(Omnibus):</th>  <td> 0.000</td>  <th>  Jarque-Bera (JB):  </th> <td>60614.276</td>\n",
       "</tr>\n",
       "<tr>\n",
       "  <th>Skew:</th>           <td> 2.678</td>  <th>  Prob(JB):          </th> <td>    0.00</td> \n",
       "</tr>\n",
       "<tr>\n",
       "  <th>Kurtosis:</th>       <td>22.019</td>  <th>  Cond. No.          </th> <td>4.20e+08</td> \n",
       "</tr>\n",
       "</table><br/><br/>Notes:<br/>[1] Standard Errors assume that the covariance matrix of the errors is correctly specified.<br/>[2] The condition number is large, 4.2e+08. This might indicate that there are<br/>strong multicollinearity or other numerical problems."
      ],
      "text/plain": [
       "<class 'statsmodels.iolib.summary.Summary'>\n",
       "\"\"\"\n",
       "                            OLS Regression Results                            \n",
       "==============================================================================\n",
       "Dep. Variable:                  gross   R-squared:                       0.494\n",
       "Model:                            OLS   Adj. R-squared:                  0.493\n",
       "Method:                 Least Squares   F-statistic:                     1209.\n",
       "Date:                Sat, 06 Mar 2021   Prob (F-statistic):               0.00\n",
       "Time:                        09:38:10   Log-Likelihood:                -71197.\n",
       "No. Observations:                3726   AIC:                         1.424e+05\n",
       "Df Residuals:                    3722   BIC:                         1.424e+05\n",
       "Df Model:                           3                                         \n",
       "Covariance Type:            nonrobust                                         \n",
       "==============================================================================\n",
       "                 coef    std err          t      P>|t|      [0.025      0.975]\n",
       "------------------------------------------------------------------------------\n",
       "Intercept  -7.177e+07   5.97e+06    -12.018      0.000   -8.35e+07   -6.01e+07\n",
       "score       1.433e+07   8.66e+05     16.548      0.000    1.26e+07     1.6e+07\n",
       "budget         1.0976      0.021     53.157      0.000       1.057       1.138\n",
       "runtime    -8.965e+04   5.28e+04     -1.699      0.089   -1.93e+05    1.38e+04\n",
       "==============================================================================\n",
       "Omnibus:                     2413.442   Durbin-Watson:                   1.826\n",
       "Prob(Omnibus):                  0.000   Jarque-Bera (JB):            60614.276\n",
       "Skew:                           2.678   Prob(JB):                         0.00\n",
       "Kurtosis:                      22.019   Cond. No.                     4.20e+08\n",
       "==============================================================================\n",
       "\n",
       "Notes:\n",
       "[1] Standard Errors assume that the covariance matrix of the errors is correctly specified.\n",
       "[2] The condition number is large, 4.2e+08. This might indicate that there are\n",
       "strong multicollinearity or other numerical problems.\n",
       "\"\"\""
      ]
     },
     "execution_count": 64,
     "metadata": {},
     "output_type": "execute_result"
    }
   ],
   "source": [
    "formula = 'gross ~ score + budget + runtime'\n",
    "model = smf.ols(formula, data=md_usa_bud)\n",
    "results = model.fit()\n",
    "results.summary()"
   ]
  },
  {
   "cell_type": "code",
   "execution_count": 65,
   "metadata": {
    "scrolled": false
   },
   "outputs": [
    {
     "data": {
      "text/html": [
       "<table class=\"simpletable\">\n",
       "<caption>OLS Regression Results</caption>\n",
       "<tr>\n",
       "  <th>Dep. Variable:</th>          <td>gross</td>      <th>  R-squared:         </th> <td>   0.087</td> \n",
       "</tr>\n",
       "<tr>\n",
       "  <th>Model:</th>                   <td>OLS</td>       <th>  Adj. R-squared:    </th> <td>   0.086</td> \n",
       "</tr>\n",
       "<tr>\n",
       "  <th>Method:</th>             <td>Least Squares</td>  <th>  F-statistic:       </th> <td>   50.88</td> \n",
       "</tr>\n",
       "<tr>\n",
       "  <th>Date:</th>             <td>Sat, 06 Mar 2021</td> <th>  Prob (F-statistic):</th> <td>1.44e-69</td> \n",
       "</tr>\n",
       "<tr>\n",
       "  <th>Time:</th>                 <td>09:38:10</td>     <th>  Log-Likelihood:    </th> <td> -72295.</td> \n",
       "</tr>\n",
       "<tr>\n",
       "  <th>No. Observations:</th>      <td>  3726</td>      <th>  AIC:               </th> <td>1.446e+05</td>\n",
       "</tr>\n",
       "<tr>\n",
       "  <th>Df Residuals:</th>          <td>  3718</td>      <th>  BIC:               </th> <td>1.447e+05</td>\n",
       "</tr>\n",
       "<tr>\n",
       "  <th>Df Model:</th>              <td>     7</td>      <th>                     </th>     <td> </td>    \n",
       "</tr>\n",
       "<tr>\n",
       "  <th>Covariance Type:</th>      <td>nonrobust</td>    <th>                     </th>     <td> </td>    \n",
       "</tr>\n",
       "</table>\n",
       "<table class=\"simpletable\">\n",
       "<tr>\n",
       "             <td></td>                <th>coef</th>     <th>std err</th>      <th>t</th>      <th>P>|t|</th>  <th>[0.025</th>    <th>0.975]</th>  \n",
       "</tr>\n",
       "<tr>\n",
       "  <th>Intercept</th>               <td>  1.07e+08</td> <td> 7.62e+06</td> <td>   14.040</td> <td> 0.000</td> <td> 9.21e+07</td> <td> 1.22e+08</td>\n",
       "</tr>\n",
       "<tr>\n",
       "  <th>rating[T.NC-17]</th>         <td>-1.049e+08</td> <td> 2.99e+07</td> <td>   -3.508</td> <td> 0.000</td> <td>-1.64e+08</td> <td>-4.63e+07</td>\n",
       "</tr>\n",
       "<tr>\n",
       "  <th>rating[T.NOT RATED]</th>     <td>-1.067e+08</td> <td> 1.95e+07</td> <td>   -5.473</td> <td> 0.000</td> <td>-1.45e+08</td> <td>-6.85e+07</td>\n",
       "</tr>\n",
       "<tr>\n",
       "  <th>rating[T.Not specified]</th> <td>-1.043e+08</td> <td> 6.51e+07</td> <td>   -1.602</td> <td> 0.109</td> <td>-2.32e+08</td> <td> 2.34e+07</td>\n",
       "</tr>\n",
       "<tr>\n",
       "  <th>rating[T.PG]</th>            <td>-3.721e+07</td> <td> 8.11e+06</td> <td>   -4.591</td> <td> 0.000</td> <td>-5.31e+07</td> <td>-2.13e+07</td>\n",
       "</tr>\n",
       "<tr>\n",
       "  <th>rating[T.PG-13]</th>         <td>-4.139e+07</td> <td> 7.83e+06</td> <td>   -5.287</td> <td> 0.000</td> <td>-5.67e+07</td> <td> -2.6e+07</td>\n",
       "</tr>\n",
       "<tr>\n",
       "  <th>rating[T.R]</th>             <td> -7.62e+07</td> <td> 7.78e+06</td> <td>   -9.799</td> <td> 0.000</td> <td>-9.14e+07</td> <td> -6.1e+07</td>\n",
       "</tr>\n",
       "<tr>\n",
       "  <th>rating[T.UNRATED]</th>       <td>-1.048e+08</td> <td> 2.09e+07</td> <td>   -5.006</td> <td> 0.000</td> <td>-1.46e+08</td> <td>-6.38e+07</td>\n",
       "</tr>\n",
       "</table>\n",
       "<table class=\"simpletable\">\n",
       "<tr>\n",
       "  <th>Omnibus:</th>       <td>2822.754</td> <th>  Durbin-Watson:     </th> <td>   1.380</td> \n",
       "</tr>\n",
       "<tr>\n",
       "  <th>Prob(Omnibus):</th>  <td> 0.000</td>  <th>  Jarque-Bera (JB):  </th> <td>75928.347</td>\n",
       "</tr>\n",
       "<tr>\n",
       "  <th>Skew:</th>           <td> 3.366</td>  <th>  Prob(JB):          </th> <td>    0.00</td> \n",
       "</tr>\n",
       "<tr>\n",
       "  <th>Kurtosis:</th>       <td>24.066</td>  <th>  Cond. No.          </th> <td>    72.4</td> \n",
       "</tr>\n",
       "</table><br/><br/>Notes:<br/>[1] Standard Errors assume that the covariance matrix of the errors is correctly specified."
      ],
      "text/plain": [
       "<class 'statsmodels.iolib.summary.Summary'>\n",
       "\"\"\"\n",
       "                            OLS Regression Results                            \n",
       "==============================================================================\n",
       "Dep. Variable:                  gross   R-squared:                       0.087\n",
       "Model:                            OLS   Adj. R-squared:                  0.086\n",
       "Method:                 Least Squares   F-statistic:                     50.88\n",
       "Date:                Sat, 06 Mar 2021   Prob (F-statistic):           1.44e-69\n",
       "Time:                        09:38:10   Log-Likelihood:                -72295.\n",
       "No. Observations:                3726   AIC:                         1.446e+05\n",
       "Df Residuals:                    3718   BIC:                         1.447e+05\n",
       "Df Model:                           7                                         \n",
       "Covariance Type:            nonrobust                                         \n",
       "===========================================================================================\n",
       "                              coef    std err          t      P>|t|      [0.025      0.975]\n",
       "-------------------------------------------------------------------------------------------\n",
       "Intercept                 1.07e+08   7.62e+06     14.040      0.000    9.21e+07    1.22e+08\n",
       "rating[T.NC-17]         -1.049e+08   2.99e+07     -3.508      0.000   -1.64e+08   -4.63e+07\n",
       "rating[T.NOT RATED]     -1.067e+08   1.95e+07     -5.473      0.000   -1.45e+08   -6.85e+07\n",
       "rating[T.Not specified] -1.043e+08   6.51e+07     -1.602      0.109   -2.32e+08    2.34e+07\n",
       "rating[T.PG]            -3.721e+07   8.11e+06     -4.591      0.000   -5.31e+07   -2.13e+07\n",
       "rating[T.PG-13]         -4.139e+07   7.83e+06     -5.287      0.000   -5.67e+07    -2.6e+07\n",
       "rating[T.R]              -7.62e+07   7.78e+06     -9.799      0.000   -9.14e+07    -6.1e+07\n",
       "rating[T.UNRATED]       -1.048e+08   2.09e+07     -5.006      0.000   -1.46e+08   -6.38e+07\n",
       "==============================================================================\n",
       "Omnibus:                     2822.754   Durbin-Watson:                   1.380\n",
       "Prob(Omnibus):                  0.000   Jarque-Bera (JB):            75928.347\n",
       "Skew:                           3.366   Prob(JB):                         0.00\n",
       "Kurtosis:                      24.066   Cond. No.                         72.4\n",
       "==============================================================================\n",
       "\n",
       "Notes:\n",
       "[1] Standard Errors assume that the covariance matrix of the errors is correctly specified.\n",
       "\"\"\""
      ]
     },
     "execution_count": 65,
     "metadata": {},
     "output_type": "execute_result"
    }
   ],
   "source": [
    "formula = 'gross ~ rating'\n",
    "model = smf.ols(formula, data=md_usa_bud)\n",
    "results = model.fit()\n",
    "results.summary()"
   ]
  },
  {
   "cell_type": "code",
   "execution_count": 66,
   "metadata": {
    "scrolled": false
   },
   "outputs": [
    {
     "data": {
      "text/html": [
       "<table class=\"simpletable\">\n",
       "<caption>OLS Regression Results</caption>\n",
       "<tr>\n",
       "  <th>Dep. Variable:</th>          <td>gross</td>      <th>  R-squared:         </th> <td>   0.506</td> \n",
       "</tr>\n",
       "<tr>\n",
       "  <th>Model:</th>                   <td>OLS</td>       <th>  Adj. R-squared:    </th> <td>   0.504</td> \n",
       "</tr>\n",
       "<tr>\n",
       "  <th>Method:</th>             <td>Least Squares</td>  <th>  F-statistic:       </th> <td>   380.2</td> \n",
       "</tr>\n",
       "<tr>\n",
       "  <th>Date:</th>             <td>Sat, 06 Mar 2021</td> <th>  Prob (F-statistic):</th>  <td>  0.00</td>  \n",
       "</tr>\n",
       "<tr>\n",
       "  <th>Time:</th>                 <td>09:38:10</td>     <th>  Log-Likelihood:    </th> <td> -71152.</td> \n",
       "</tr>\n",
       "<tr>\n",
       "  <th>No. Observations:</th>      <td>  3726</td>      <th>  AIC:               </th> <td>1.423e+05</td>\n",
       "</tr>\n",
       "<tr>\n",
       "  <th>Df Residuals:</th>          <td>  3715</td>      <th>  BIC:               </th> <td>1.424e+05</td>\n",
       "</tr>\n",
       "<tr>\n",
       "  <th>Df Model:</th>              <td>    10</td>      <th>                     </th>     <td> </td>    \n",
       "</tr>\n",
       "<tr>\n",
       "  <th>Covariance Type:</th>      <td>nonrobust</td>    <th>                     </th>     <td> </td>    \n",
       "</tr>\n",
       "</table>\n",
       "<table class=\"simpletable\">\n",
       "<tr>\n",
       "             <td></td>                <th>coef</th>     <th>std err</th>      <th>t</th>      <th>P>|t|</th>  <th>[0.025</th>    <th>0.975]</th>  \n",
       "</tr>\n",
       "<tr>\n",
       "  <th>Intercept</th>               <td>-5.816e+07</td> <td> 7.99e+06</td> <td>   -7.279</td> <td> 0.000</td> <td>-7.38e+07</td> <td>-4.25e+07</td>\n",
       "</tr>\n",
       "<tr>\n",
       "  <th>rating[T.NC-17]</th>         <td>-4.173e+07</td> <td> 2.21e+07</td> <td>   -1.890</td> <td> 0.059</td> <td> -8.5e+07</td> <td> 1.57e+06</td>\n",
       "</tr>\n",
       "<tr>\n",
       "  <th>rating[T.NOT RATED]</th>     <td>-4.178e+07</td> <td> 1.44e+07</td> <td>   -2.895</td> <td> 0.004</td> <td>-7.01e+07</td> <td>-1.35e+07</td>\n",
       "</tr>\n",
       "<tr>\n",
       "  <th>rating[T.Not specified]</th> <td>  -4.7e+07</td> <td>  4.8e+07</td> <td>   -0.980</td> <td> 0.327</td> <td>-1.41e+08</td> <td> 4.71e+07</td>\n",
       "</tr>\n",
       "<tr>\n",
       "  <th>rating[T.PG]</th>            <td>-1.414e+07</td> <td> 6.04e+06</td> <td>   -2.340</td> <td> 0.019</td> <td> -2.6e+07</td> <td>-2.29e+06</td>\n",
       "</tr>\n",
       "<tr>\n",
       "  <th>rating[T.PG-13]</th>         <td>-2.022e+07</td> <td>  5.9e+06</td> <td>   -3.428</td> <td> 0.001</td> <td>-3.18e+07</td> <td>-8.65e+06</td>\n",
       "</tr>\n",
       "<tr>\n",
       "  <th>rating[T.R]</th>             <td>-3.249e+07</td> <td> 5.92e+06</td> <td>   -5.491</td> <td> 0.000</td> <td>-4.41e+07</td> <td>-2.09e+07</td>\n",
       "</tr>\n",
       "<tr>\n",
       "  <th>rating[T.UNRATED]</th>       <td>-3.874e+07</td> <td> 1.55e+07</td> <td>   -2.501</td> <td> 0.012</td> <td>-6.91e+07</td> <td>-8.38e+06</td>\n",
       "</tr>\n",
       "<tr>\n",
       "  <th>score</th>                   <td> 1.488e+07</td> <td> 8.69e+05</td> <td>   17.113</td> <td> 0.000</td> <td> 1.32e+07</td> <td> 1.66e+07</td>\n",
       "</tr>\n",
       "<tr>\n",
       "  <th>budget</th>                  <td>    1.0173</td> <td>    0.022</td> <td>   46.032</td> <td> 0.000</td> <td>    0.974</td> <td>    1.061</td>\n",
       "</tr>\n",
       "<tr>\n",
       "  <th>runtime</th>                 <td> 1.204e+04</td> <td> 5.41e+04</td> <td>    0.223</td> <td> 0.824</td> <td> -9.4e+04</td> <td> 1.18e+05</td>\n",
       "</tr>\n",
       "</table>\n",
       "<table class=\"simpletable\">\n",
       "<tr>\n",
       "  <th>Omnibus:</th>       <td>2461.944</td> <th>  Durbin-Watson:     </th> <td>   1.818</td> \n",
       "</tr>\n",
       "<tr>\n",
       "  <th>Prob(Omnibus):</th>  <td> 0.000</td>  <th>  Jarque-Bera (JB):  </th> <td>67384.218</td>\n",
       "</tr>\n",
       "<tr>\n",
       "  <th>Skew:</th>           <td> 2.727</td>  <th>  Prob(JB):          </th> <td>    0.00</td> \n",
       "</tr>\n",
       "<tr>\n",
       "  <th>Kurtosis:</th>       <td>23.107</td>  <th>  Cond. No.          </th> <td>3.40e+09</td> \n",
       "</tr>\n",
       "</table><br/><br/>Notes:<br/>[1] Standard Errors assume that the covariance matrix of the errors is correctly specified.<br/>[2] The condition number is large, 3.4e+09. This might indicate that there are<br/>strong multicollinearity or other numerical problems."
      ],
      "text/plain": [
       "<class 'statsmodels.iolib.summary.Summary'>\n",
       "\"\"\"\n",
       "                            OLS Regression Results                            \n",
       "==============================================================================\n",
       "Dep. Variable:                  gross   R-squared:                       0.506\n",
       "Model:                            OLS   Adj. R-squared:                  0.504\n",
       "Method:                 Least Squares   F-statistic:                     380.2\n",
       "Date:                Sat, 06 Mar 2021   Prob (F-statistic):               0.00\n",
       "Time:                        09:38:10   Log-Likelihood:                -71152.\n",
       "No. Observations:                3726   AIC:                         1.423e+05\n",
       "Df Residuals:                    3715   BIC:                         1.424e+05\n",
       "Df Model:                          10                                         \n",
       "Covariance Type:            nonrobust                                         \n",
       "===========================================================================================\n",
       "                              coef    std err          t      P>|t|      [0.025      0.975]\n",
       "-------------------------------------------------------------------------------------------\n",
       "Intercept               -5.816e+07   7.99e+06     -7.279      0.000   -7.38e+07   -4.25e+07\n",
       "rating[T.NC-17]         -4.173e+07   2.21e+07     -1.890      0.059    -8.5e+07    1.57e+06\n",
       "rating[T.NOT RATED]     -4.178e+07   1.44e+07     -2.895      0.004   -7.01e+07   -1.35e+07\n",
       "rating[T.Not specified]   -4.7e+07    4.8e+07     -0.980      0.327   -1.41e+08    4.71e+07\n",
       "rating[T.PG]            -1.414e+07   6.04e+06     -2.340      0.019    -2.6e+07   -2.29e+06\n",
       "rating[T.PG-13]         -2.022e+07    5.9e+06     -3.428      0.001   -3.18e+07   -8.65e+06\n",
       "rating[T.R]             -3.249e+07   5.92e+06     -5.491      0.000   -4.41e+07   -2.09e+07\n",
       "rating[T.UNRATED]       -3.874e+07   1.55e+07     -2.501      0.012   -6.91e+07   -8.38e+06\n",
       "score                    1.488e+07   8.69e+05     17.113      0.000    1.32e+07    1.66e+07\n",
       "budget                      1.0173      0.022     46.032      0.000       0.974       1.061\n",
       "runtime                  1.204e+04   5.41e+04      0.223      0.824    -9.4e+04    1.18e+05\n",
       "==============================================================================\n",
       "Omnibus:                     2461.944   Durbin-Watson:                   1.818\n",
       "Prob(Omnibus):                  0.000   Jarque-Bera (JB):            67384.218\n",
       "Skew:                           2.727   Prob(JB):                         0.00\n",
       "Kurtosis:                      23.107   Cond. No.                     3.40e+09\n",
       "==============================================================================\n",
       "\n",
       "Notes:\n",
       "[1] Standard Errors assume that the covariance matrix of the errors is correctly specified.\n",
       "[2] The condition number is large, 3.4e+09. This might indicate that there are\n",
       "strong multicollinearity or other numerical problems.\n",
       "\"\"\""
      ]
     },
     "execution_count": 66,
     "metadata": {},
     "output_type": "execute_result"
    }
   ],
   "source": [
    "formula = 'gross ~ score + budget + runtime + rating'\n",
    "model = smf.ols(formula, data=md_usa_bud)\n",
    "results = model.fit()\n",
    "results.summary()"
   ]
  },
  {
   "cell_type": "code",
   "execution_count": null,
   "metadata": {},
   "outputs": [],
   "source": []
  }
 ],
 "metadata": {
  "kernelspec": {
   "display_name": "Python 3",
   "language": "python",
   "name": "python3"
  },
  "language_info": {
   "codemirror_mode": {
    "name": "ipython",
    "version": 3
   },
   "file_extension": ".py",
   "mimetype": "text/x-python",
   "name": "python",
   "nbconvert_exporter": "python",
   "pygments_lexer": "ipython3",
   "version": "3.8.5"
  }
 },
 "nbformat": 4,
 "nbformat_minor": 4
}
